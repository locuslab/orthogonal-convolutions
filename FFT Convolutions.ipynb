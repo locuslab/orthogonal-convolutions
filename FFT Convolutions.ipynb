{
 "cells": [
  {
   "cell_type": "markdown",
   "id": "standing-manhattan",
   "metadata": {},
   "source": [
    "# How to do circular convolution in the Fourier domain\n",
    "--------------------------------------------------------\n",
    "This is a tutorial accompanying the ICLR 2021 paper *\"Orthogonalizing Convolutional Layers with the Cayley Transform\"* by Asher Trockman and Zico Kolter.\n",
    "\n",
    "This Jupyter notebook is best viewed with [nbviewer (click here)](https://nbviewer.jupyter.org/github/locuslab/orthogonal-convolutions/blob/main/FFT%20Convolutions.ipynb)."
   ]
  },
  {
   "cell_type": "code",
   "execution_count": 964,
   "id": "thermal-temple",
   "metadata": {},
   "outputs": [],
   "source": [
    "import torch\n",
    "import torch.nn as nn\n",
    "import torch.nn.functional as F"
   ]
  },
  {
   "cell_type": "markdown",
   "id": "danish-huntington",
   "metadata": {},
   "source": [
    "### Quick start"
   ]
  },
  {
   "cell_type": "code",
   "execution_count": 965,
   "id": "embedded-center",
   "metadata": {},
   "outputs": [],
   "source": [
    "cin = 3      # input channels\n",
    "cout = 3     # output channels\n",
    "n = 5        # spatial (input) size\n",
    "k = 3        # conv. kernel size\n",
    "batches = 1  # batches"
   ]
  },
  {
   "cell_type": "markdown",
   "id": "spatial-mississippi",
   "metadata": {},
   "source": [
    "We will implement the following circular convolution using FFT functions:"
   ]
  },
  {
   "cell_type": "code",
   "execution_count": 966,
   "id": "external-entrance",
   "metadata": {},
   "outputs": [],
   "source": [
    "x = torch.randn(batches, cin, n, n)\n",
    "conv = nn.Conv2d(cin, cout, k, bias=False)"
   ]
  },
  {
   "cell_type": "markdown",
   "id": "hired-chile",
   "metadata": {},
   "source": [
    "Notice that we make the convolution \"circular\" using circular padding:"
   ]
  },
  {
   "cell_type": "code",
   "execution_count": 967,
   "id": "unnecessary-purpose",
   "metadata": {},
   "outputs": [],
   "source": [
    "y1 = conv(F.pad(x, (1, 1, 1, 1), mode=\"circular\"))"
   ]
  },
  {
   "cell_type": "markdown",
   "id": "attended-commission",
   "metadata": {},
   "source": [
    "First, we compute the 2D FFT of the input (applied only to the last two dimensions):"
   ]
  },
  {
   "cell_type": "code",
   "execution_count": 968,
   "id": "spiritual-assumption",
   "metadata": {},
   "outputs": [],
   "source": [
    "xfft = torch.fft.fft2(x)"
   ]
  },
  {
   "cell_type": "markdown",
   "id": "outdoor-disney",
   "metadata": {},
   "source": [
    "Then we compute the 2D FFT of the weights, also applied to only the last two dimensions.\n",
    "We have to do a couple things here, however: first, we have to pad the weights to have the\n",
    "same spatial size as the inputs.  "
   ]
  },
  {
   "cell_type": "code",
   "execution_count": 969,
   "id": "abroad-pointer",
   "metadata": {},
   "outputs": [],
   "source": [
    "wpad = F.pad(conv.weight, (n - k, 0, n - k, 0))"
   ]
  },
  {
   "cell_type": "markdown",
   "id": "effective-baseline",
   "metadata": {},
   "source": [
    "Next, we have to shift the zero-frequency component to the center of the spectrum,\n",
    "along both the height and width. We do that using the `fftshift` function.\n",
    "\n",
    "Then, we take the complex conjugate. This is equivalent to flipping the kernel horizontally and vertically--\n",
    "convolution as implemented in PyTorch is actually \"cross-correlation\" mathematically.\n",
    "The difference is just that the kernel is flipped.\n",
    "Conjugation in the Fourier domain is equivalent to flipping the signal in the spatial domain."
   ]
  },
  {
   "cell_type": "code",
   "execution_count": 970,
   "id": "impossible-clearing",
   "metadata": {},
   "outputs": [],
   "source": [
    "wfft = torch.fft.fft2(torch.fft.fftshift(wpad, (2, 3))).conj()"
   ]
  },
  {
   "cell_type": "markdown",
   "id": "competitive-relation",
   "metadata": {},
   "source": [
    "Then, we implement the product described by this figure, using `einsum`.<br><br>\n",
    "<center>\n",
    "<img width=\"200\" src=\"https://github.com/locuslab/orthogonal-convolutions/blob/main/img/AnimationKeyVerySmall.gif?raw=true\" alt=\"Multi-Channel 2D Convolution Theorem\" /><br>\n",
    "    <p style=\"width: 50%; min-width: 400px;\">(<b>Colored slices:</b> pixels; <b>arrows:</b> dot products; <b>left:</b> Fourier-domain weights; <b>middle:</b> input tensor; <b>right:</b> output tensor; <b>bottom-right</b>: the matrix-vector product for each pixel.)</p>\n",
    "</center><br>\n",
    "That is: Each channel of each pixel of the output is the dot product of the corresponding input pixel and weight pixel.\n",
    "\n"
   ]
  },
  {
   "cell_type": "code",
   "execution_count": 971,
   "id": "certain-force",
   "metadata": {},
   "outputs": [],
   "source": [
    "yfft = torch.einsum('dchw, bchw -> bdhw', wfft, xfft)"
   ]
  },
  {
   "cell_type": "markdown",
   "id": "traditional-diploma",
   "metadata": {},
   "source": [
    "Now we apply the inverse Fourier transform, and we're done."
   ]
  },
  {
   "cell_type": "code",
   "execution_count": 972,
   "id": "peripheral-customer",
   "metadata": {},
   "outputs": [],
   "source": [
    "y2 = torch.fft.ifft2(yfft)"
   ]
  },
  {
   "cell_type": "markdown",
   "id": "electoral-canada",
   "metadata": {},
   "source": [
    "The result is the same as the circular convolution we implemented with `nn.Conv2d`:"
   ]
  },
  {
   "cell_type": "code",
   "execution_count": 973,
   "id": "thirty-kingdom",
   "metadata": {},
   "outputs": [
    {
     "data": {
      "text/plain": [
       "5.486122631737089e-07"
      ]
     },
     "execution_count": 973,
     "metadata": {},
     "output_type": "execute_result"
    }
   ],
   "source": [
    "(y1 - y2).norm().item()"
   ]
  },
  {
   "cell_type": "markdown",
   "id": "oriental-theory",
   "metadata": {},
   "source": [
    "------------------------------------------------------------------------\n",
    "### Matrix Block-Diagonalization Perspective\n",
    "And how to orthogonalize FFT convolutions."
   ]
  },
  {
   "cell_type": "code",
   "execution_count": 974,
   "id": "velvet-jerusalem",
   "metadata": {},
   "outputs": [],
   "source": [
    "import matplotlib.pyplot as plt\n",
    "plt.rcParams['figure.figsize'] = [5, 5]"
   ]
  },
  {
   "cell_type": "markdown",
   "id": "extensive-vegetable",
   "metadata": {},
   "source": [
    "We can make a block diagonal Fourier-domain matrix out of the $n^2$ pixels of `wfft`.\n",
    "Then, we can implement circular convolution in the Fourier domain by multiplying the Fourier-domain\n",
    "inputs with the block diagonal matrix."
   ]
  },
  {
   "cell_type": "code",
   "execution_count": 975,
   "id": "romance-simulation",
   "metadata": {},
   "outputs": [],
   "source": [
    "D = torch.block_diag(*[wfft.reshape(cin, cout, n**2)[..., i] for i in range(n**2)])"
   ]
  },
  {
   "cell_type": "code",
   "execution_count": 976,
   "id": "cathedral-stereo",
   "metadata": {},
   "outputs": [
    {
     "data": {
      "image/png": "[encoded data removed]",
      "text/plain": [
       "<Figure size 360x360 with 1 Axes>"
      ]
     },
     "metadata": {
      "needs_background": "light"
     },
     "output_type": "display_data"
    }
   ],
   "source": [
    "plt.imshow(D.real.detach())\n",
    "plt.title(r'$\\bf{D}$: Block Diagonal Matrix')\n",
    "plt.show()"
   ]
  },
  {
   "cell_type": "markdown",
   "id": "eastern-gates",
   "metadata": {},
   "source": [
    "We have to reshape the input into a batch of vectors, where we lay out the channels first. That is,\n",
    "the first `cin` elements of the vector belong to the first pixel, the next `cin` to the second pixel,\n",
    "and so on.\n",
    "\n",
    "Then, we multiply by the diagonal matrix `D` and convert back to the original input shape."
   ]
  },
  {
   "cell_type": "code",
   "execution_count": 977,
   "id": "usual-klein",
   "metadata": {},
   "outputs": [],
   "source": [
    "yfft_matrix = (D @ xfft.reshape(batches, cin, n**2).permute(2, 1, 0).reshape(-1, batches)) \\\n",
    "                .reshape(n, n, cin, batches).permute(3, 2, 0, 1)"
   ]
  },
  {
   "cell_type": "markdown",
   "id": "metallic-hepatitis",
   "metadata": {},
   "source": [
    "Again, this is the same as doing circular convolution using `nn.Conv2d`, as well as our previous implementation of Fourier convolutions. We apply the inverse 2D FFT and compare:"
   ]
  },
  {
   "cell_type": "code",
   "execution_count": 978,
   "id": "governmental-buffer",
   "metadata": {},
   "outputs": [
    {
     "data": {
      "text/plain": [
       "5.301254759615404e-07"
      ]
     },
     "execution_count": 978,
     "metadata": {},
     "output_type": "execute_result"
    }
   ],
   "source": [
    "y3 = torch.fft.ifft2(yfft_matrix)\n",
    "(y1 - y3).norm().item()"
   ]
  },
  {
   "cell_type": "markdown",
   "id": "monetary-renaissance",
   "metadata": {},
   "source": [
    "-----------------------------------------\n",
    "We will now illustrate the \"block diagonalization\" part of this figure by constructing DFT matrices that convert the previous block diagonal matrix `D` into a block matrix of convolution matrices `C`:\n",
    "<center>\n",
    "    <img width=\"300\" src=\"https://github.com/locuslab/orthogonal-convolutions/blob/main/img/ICLR-Thumbnail-Fourier.001.png?raw=true\" alt=\"Block-Diagonalization in the Fourier Domain\" />\n",
    "</center>"
   ]
  },
  {
   "cell_type": "code",
   "execution_count": 979,
   "id": "educated-leadership",
   "metadata": {},
   "outputs": [],
   "source": [
    "# Somewhat easier to build these matrices with np.block\n",
    "import numpy as np \n",
    "\n",
    "# Perfect shuffle matrices, implemented as described in the appendix of our paper\n",
    "def shuffle_matrix(p, q):\n",
    "    r = p * q\n",
    "    Ir = np.eye(r)\n",
    "    S = []\n",
    "    for i in range(q):\n",
    "        for x in Ir[i:r:q]:\n",
    "            S.append([x])\n",
    "    return np.block(S)\n",
    "\n",
    "# The \"script F\" matrix from Corollary A.1.1 of our paper\n",
    "def script_F(c):\n",
    "    global n\n",
    "    S = shuffle_matrix(c, n**2)\n",
    "    F = np.fft.fft(np.eye(n), norm=\"ortho\")\n",
    "    FF = np.kron(F, F)\n",
    "    return S @ np.kron(np.eye(c), FF)"
   ]
  },
  {
   "cell_type": "code",
   "execution_count": 980,
   "id": "small-petroleum",
   "metadata": {},
   "outputs": [],
   "source": [
    "Fs_cout = torch.tensor(script_F(cout), dtype=torch.complex64)\n",
    "Fs_cin = torch.tensor(script_F(cin), dtype=torch.complex64)"
   ]
  },
  {
   "cell_type": "code",
   "execution_count": 981,
   "id": "educated-valentine",
   "metadata": {},
   "outputs": [
    {
     "data": {
      "image/png": "[encoded data removed]",
      "text/plain": [
       "<Figure size 360x360 with 1 Axes>"
      ]
     },
     "metadata": {
      "needs_background": "light"
     },
     "output_type": "display_data"
    }
   ],
   "source": [
    "C = Fs_cout.conj().T @ D @ Fs_cin\n",
    "plt.imshow(C.real.detach())\n",
    "plt.title(r'$\\bf{C}$: Block Matrix of Doubly-Block-Circulant Matrices')\n",
    "plt.show()"
   ]
  },
  {
   "cell_type": "markdown",
   "id": "banner-testing",
   "metadata": {},
   "source": [
    "This matrix `C` represents the circular convolution in the spatial domain.\n",
    "We reshape the input vector such that the $n^2$ pixels of the first channel come first,\n",
    "then the second channel, and so on:"
   ]
  },
  {
   "cell_type": "code",
   "execution_count": 982,
   "id": "middle-cycle",
   "metadata": {},
   "outputs": [],
   "source": [
    "y_matrix = (C.real @ x.reshape(batches, cin, n**2).permute(1, 2, 0).reshape(-1, batches)) \\\n",
    "                .reshape(cin, n, n, batches).permute(3, 0, 1, 2)"
   ]
  },
  {
   "cell_type": "code",
   "execution_count": 983,
   "id": "subsequent-attention",
   "metadata": {},
   "outputs": [
    {
     "data": {
      "text/plain": [
       "6.645755092904437e-07"
      ]
     },
     "execution_count": 983,
     "metadata": {},
     "output_type": "execute_result"
    }
   ],
   "source": [
    "(y_matrix - y3).norm().item()"
   ]
  },
  {
   "cell_type": "markdown",
   "id": "shaped-cookie",
   "metadata": {},
   "source": [
    "We will now make the claim in the figure above explicit: applying the Cayley transform to `C` is equivalent to applying the Cayley transform to `D` and then applying the DFT matrices:"
   ]
  },
  {
   "cell_type": "code",
   "execution_count": 984,
   "id": "skilled-progress",
   "metadata": {},
   "outputs": [],
   "source": [
    "assert cin == cout, \"This section only applies for cin == cout, since we need square matrices\"\n",
    "cayley = lambda B: (torch.eye(cin * n**2) - B + B.conj().T) @ torch.inverse(torch.eye(cin * n**2) + B - B.conj().T)"
   ]
  },
  {
   "cell_type": "code",
   "execution_count": 985,
   "id": "authorized-contest",
   "metadata": {},
   "outputs": [
    {
     "data": {
      "text/plain": [
       "2.27623718274117e-06"
      ]
     },
     "execution_count": 985,
     "metadata": {},
     "output_type": "execute_result"
    }
   ],
   "source": [
    "(cayley(C) - Fs_cin.conj().T @ cayley(D) @ Fs_cin).norm().item()"
   ]
  },
  {
   "cell_type": "markdown",
   "id": "psychological-harvest",
   "metadata": {},
   "source": [
    "What does an orthogonal convolution look like, anyways?"
   ]
  },
  {
   "cell_type": "code",
   "execution_count": 986,
   "id": "pregnant-argentina",
   "metadata": {},
   "outputs": [
    {
     "data": {
      "image/png": "[encoded data removed]",
      "text/plain": [
       "<Figure size 360x360 with 1 Axes>"
      ]
     },
     "metadata": {
      "needs_background": "light"
     },
     "output_type": "display_data"
    }
   ],
   "source": [
    "C_ortho = cayley(C)\n",
    "plt.imshow(C_ortho.detach().numpy().real)\n",
    "plt.show()"
   ]
  },
  {
   "cell_type": "markdown",
   "id": "threatened-revision",
   "metadata": {},
   "source": [
    "As an aside, note that the imaginary part of `C_ortho` (and `C`) is zero:"
   ]
  },
  {
   "cell_type": "code",
   "execution_count": 987,
   "id": "downtown-wallace",
   "metadata": {},
   "outputs": [
    {
     "data": {
      "text/plain": [
       "(2.970572836602514e-07, 1.376810132569517e-07)"
      ]
     },
     "execution_count": 987,
     "metadata": {},
     "output_type": "execute_result"
    }
   ],
   "source": [
    "C_ortho.imag.norm().item(), C.imag.norm().item()"
   ]
  },
  {
   "cell_type": "markdown",
   "id": "increasing-soldier",
   "metadata": {},
   "source": [
    "Let's illustrate that `C_ortho` is indeed orthogonal:"
   ]
  },
  {
   "cell_type": "code",
   "execution_count": 988,
   "id": "partial-contribution",
   "metadata": {},
   "outputs": [
    {
     "data": {
      "image/png": "[encoded data removed]",
      "text/plain": [
       "<Figure size 360x360 with 1 Axes>"
      ]
     },
     "metadata": {
      "needs_background": "light"
     },
     "output_type": "display_data"
    }
   ],
   "source": [
    "plt.imshow((C_ortho @ C_ortho.T).detach().numpy().real)\n",
    "plt.title(r\"$C_\\mathsf{ortho} C_\\mathsf{ortho}^T = I$\")\n",
    "plt.show()"
   ]
  },
  {
   "cell_type": "markdown",
   "id": "comic-imaging",
   "metadata": {},
   "source": [
    "--------------------------------------------------------\n",
    "## Orthogonalizing FFT Convolutions\n",
    "\n",
    "Putting the ideas illustrated above together, we want to orthogonalize\n",
    "a convolution in the Fourier domain without explicitly constructing a large matrix.\n",
    "Essentially, we just want to operate on the blocks of `D`.\n",
    "Recall that we extracted those blocks from the convolution weight tensor earlier:\n",
    "*we will just rearrange the tensor to make working with those blocks easier.*\n",
    "\n",
    "In particular, we will use the fact that each pixel of the output is given by a matrix vector product:\n",
    "we will arrange the input and weight tensors so that we can compute the convolution\n",
    "with a batch of such matrix multiplications."
   ]
  },
  {
   "cell_type": "code",
   "execution_count": 989,
   "id": "compressed-inspiration",
   "metadata": {},
   "outputs": [],
   "source": [
    "xfft = torch.fft.fft2(x)\n",
    "xfft = xfft.permute(2, 3, 1, 0) # batches, cin, n, n -> n, n, cin, batches\n",
    "xfft = xfft.reshape(n**2, cin, batches) # n**2 input pixels"
   ]
  },
  {
   "cell_type": "code",
   "execution_count": 990,
   "id": "boring-stuart",
   "metadata": {},
   "outputs": [],
   "source": [
    "wfft = torch.fft.fft2(torch.fft.fftshift(wpad, (2, 3))).conj() # cout, cin, n, n\n",
    "wfft = wfft.reshape(cout, cin, n**2) # cout, cin, n**2 pixels\n",
    "wfft = wfft.permute(2, 0, 1) # n**2, cout, cin"
   ]
  },
  {
   "cell_type": "markdown",
   "id": "perfect-animation",
   "metadata": {},
   "source": [
    "Now, similarly to the block diagonal matrix `D` earlier,\n",
    "we have `xfft` of shape ($n^2$, `cin`, `batches`) and\n",
    "`wfft` of shape ($n^2$, `cout`, `cin`).\n",
    "The last two dimensions for each of these are compatible for matrix multiplication with output\n",
    "shape ($n^2$, `cout`, `batches`).\n",
    "\n",
    "We can do batch matrix multiplication, and reshape again:"
   ]
  },
  {
   "cell_type": "code",
   "execution_count": 991,
   "id": "printable-optimization",
   "metadata": {},
   "outputs": [],
   "source": [
    "yfft = wfft @ xfft # n**2, cout, batches\n",
    "yfft = yfft.reshape(n, n, cout, batches)\n",
    "yfft = yfft.permute(3, 2, 0, 1) # batches, cout, n, n\n",
    "y4 = torch.fft.ifft2(yfft)"
   ]
  },
  {
   "cell_type": "markdown",
   "id": "soviet-laugh",
   "metadata": {},
   "source": [
    "Again, this is equivalent to the original circular convolution:"
   ]
  },
  {
   "cell_type": "code",
   "execution_count": 992,
   "id": "driving-mineral",
   "metadata": {},
   "outputs": [
    {
     "data": {
      "text/plain": [
       "5.486122631737089e-07"
      ]
     },
     "execution_count": 992,
     "metadata": {},
     "output_type": "execute_result"
    }
   ],
   "source": [
    "(y1 - y4).norm().item()"
   ]
  },
  {
   "cell_type": "markdown",
   "id": "systematic-employee",
   "metadata": {
    "tags": []
   },
   "source": [
    "But this time, it's very easy to orthogonalize the convolution by orthogonalizing\n",
    "all of the \"blocks\":"
   ]
  },
  {
   "cell_type": "code",
   "execution_count": 993,
   "id": "retained-guinea",
   "metadata": {},
   "outputs": [],
   "source": [
    "# \"Batched\" Cayley transform\n",
    "wfft_skew_sym = wfft - wfft.conj().transpose(1, 2)\n",
    "I = torch.eye(cin, dtype=wfft.dtype)[None, :, :]\n",
    "wfft_ortho = (I - wfft_skew_sym) @ torch.inverse(I + wfft_skew_sym)"
   ]
  },
  {
   "cell_type": "code",
   "execution_count": 994,
   "id": "perceived-cleaners",
   "metadata": {},
   "outputs": [],
   "source": [
    "yfft_ortho = wfft_ortho @ xfft # n**2, cout, batches\n",
    "yfft_ortho = yfft_ortho.reshape(n, n, cout, batches)\n",
    "yfft_ortho = yfft_ortho.permute(3, 2, 0, 1) # batches, cout, n, n\n",
    "y_ortho = torch.fft.ifft2(yfft_ortho)"
   ]
  },
  {
   "cell_type": "markdown",
   "id": "organized-postage",
   "metadata": {},
   "source": [
    "We can see that this implements an orthogonal convolution because\n",
    "it doesn't expand the norm of input tensors:"
   ]
  },
  {
   "cell_type": "code",
   "execution_count": 995,
   "id": "beneficial-mauritius",
   "metadata": {},
   "outputs": [
    {
     "name": "stdout",
     "output_type": "stream",
     "text": [
      "y_ortho   norm:  7.278060436248779\n",
      "input (x) norm:  7.278059482574463\n"
     ]
    }
   ],
   "source": [
    "print('y_ortho   norm: ', y_ortho.norm().item())\n",
    "print('input (x) norm: ', x.norm().item())"
   ]
  },
  {
   "cell_type": "markdown",
   "id": "optional-kitty",
   "metadata": {},
   "source": [
    "---------------------------------------------------------------------\n",
    "### Optimizations and More"
   ]
  },
  {
   "cell_type": "markdown",
   "id": "comprehensive-hungary",
   "metadata": {},
   "source": [
    "Using the symmetry of the Fourier transform, we can implement FFT-based convolutions\n",
    "even more efficiently. In practice, we construct a matrix to implement `fftshift` using a single elementwise product according to the [shift theorem](https://ccrma.stanford.edu/~jos/st/Shift_Theorem.html). We can also handle strided FFT-based convolutions using the *aliasing theorem*, which can be found [here](https://ccrma.stanford.edu/~jos/st/Downsampling_Theorem_Aliasing_Theorem.html).\n",
    "\n",
    "We provide a more fully-featured FFT-based convolution layer in `extras/fftconv.py`."
   ]
  },
  {
   "cell_type": "markdown",
   "id": "professional-terminology",
   "metadata": {},
   "source": [
    "### Orthogonal Convolutions when `cin` != `cout`"
   ]
  },
  {
   "cell_type": "markdown",
   "id": "joint-footwear",
   "metadata": {},
   "source": [
    "In the appendix of our paper, we describe a method to efficiently \"orthogonalize\" convolutions with different numbers of input and output channels. This is actually called *semi-orthogonalization*.\n",
    "More details can be found in `Orthogonal Convolutions.ipynb`."
   ]
  },
  {
   "cell_type": "markdown",
   "id": "federal-cooling",
   "metadata": {},
   "source": [
    "-----------------------------------------------------------------------\n",
    "You can cite our work as follows:\n",
    "\n",
    "<pre>\n",
    "@inproceedings{trockman2021ortho,\n",
    "    title={Orthogonalizing Convolutional Layers with the Cayley Transform},\n",
    "    author={Asher Trockman and J. Zico Kolter},\n",
    "    booktitle={International Conference on Learning Representations},\n",
    "    year={2021},\n",
    "    url={https://openreview.net/forum?id=Pbj8H_jEHYv}\n",
    "}\n",
    "</pre>"
   ]
  }
 ],
 "metadata": {
  "kernelspec": {
   "display_name": "Python 3",
   "language": "python",
   "name": "python3"
  },
  "language_info": {
   "codemirror_mode": {
    "name": "ipython",
    "version": 3
   },
   "file_extension": ".py",
   "mimetype": "text/x-python",
   "name": "python",
   "nbconvert_exporter": "python",
   "pygments_lexer": "ipython3",
   "version": "3.6.6"
  }
 },
 "nbformat": 4,
 "nbformat_minor": 5
}
