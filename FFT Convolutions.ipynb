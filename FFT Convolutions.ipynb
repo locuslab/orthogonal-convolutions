{
 "cells": [
  {
   "cell_type": "markdown",
   "id": "varied-fossil",
   "metadata": {},
   "source": [
    "# Circular Convolutional Layers in the Fourier Domain\n",
    "--------------------------------------------------------\n",
    "This is a tutorial accompanying the ICLR 2021 paper *\"Orthogonalizing Convolutional Layers with the Cayley Transform\"* by Asher Trockman and Zico Kolter.\n",
    "\n",
    "This Jupyter notebook is best viewed with [nbviewer (click here)](https://nbviewer.jupyter.org/github/locuslab/orthogonal-convolutions/blob/main/FFT%20Convolutions.ipynb)."
   ]
  },
  {
   "cell_type": "code",
   "execution_count": 1,
   "id": "military-interstate",
   "metadata": {},
   "outputs": [],
   "source": [
    "import torch\n",
    "import torch.nn as nn\n",
    "import torch.nn.functional as F\n",
    "import numpy as np\n",
    "import matplotlib.pyplot as plt\n",
    "plt.rcParams['figure.figsize'] = [3, 3]"
   ]
  },
  {
   "cell_type": "markdown",
   "id": "institutional-graduation",
   "metadata": {},
   "source": [
    "### Quick start"
   ]
  },
  {
   "cell_type": "code",
   "execution_count": 2,
   "id": "balanced-narrative",
   "metadata": {},
   "outputs": [],
   "source": [
    "# Try changing these parameters and running the notebook.\n",
    "cin = 3      # input channels\n",
    "cout = 3     # output channels\n",
    "n = 5        # spatial (input) size\n",
    "k = 3        # conv. kernel size\n",
    "batches = 1  # batches"
   ]
  },
  {
   "cell_type": "markdown",
   "id": "loose-aside",
   "metadata": {},
   "source": [
    "We will implement the following circular convolution using FFT functions:"
   ]
  },
  {
   "cell_type": "code",
   "execution_count": 3,
   "id": "worst-boulder",
   "metadata": {},
   "outputs": [],
   "source": [
    "x = torch.randn(batches, cin, n, n)\n",
    "conv = nn.Conv2d(cin, cout, k, bias=False)"
   ]
  },
  {
   "cell_type": "markdown",
   "id": "positive-finance",
   "metadata": {},
   "source": [
    "Notice that we make the convolution \"circular\" using circular padding (below). The left/right and top/bottom paddings differ to account for even kernel sizes (they will all be the same for odd kernel sizes)."
   ]
  },
  {
   "cell_type": "code",
   "execution_count": 4,
   "id": "located-thing",
   "metadata": {},
   "outputs": [],
   "source": [
    "y1 = conv(F.pad(x, ((k - 1) // 2, k // 2, (k - 1) // 2, k // 2), mode=\"circular\"))"
   ]
  },
  {
   "cell_type": "markdown",
   "id": "favorite-palestine",
   "metadata": {},
   "source": [
    "First, we compute the 2D FFT of the input (applied only to the last two dimensions):"
   ]
  },
  {
   "cell_type": "code",
   "execution_count": 5,
   "id": "lyric-nicaragua",
   "metadata": {},
   "outputs": [],
   "source": [
    "xfft = torch.fft.fft2(x)"
   ]
  },
  {
   "cell_type": "markdown",
   "id": "still-return",
   "metadata": {},
   "source": [
    "Then we compute the 2D FFT of the weights, also applied to only the last two dimensions.\n",
    "We have to do a couple things here, however: first, we have to pad the weights to have the\n",
    "same spatial size as the inputs.  "
   ]
  },
  {
   "cell_type": "code",
   "execution_count": 6,
   "id": "checked-membrane",
   "metadata": {},
   "outputs": [],
   "source": [
    "wpad = F.pad(conv.weight, (0, n - k, 0, n - k))"
   ]
  },
  {
   "cell_type": "code",
   "execution_count": 7,
   "id": "physical-killer",
   "metadata": {},
   "outputs": [
    {
     "data": {
      "image/png": "[encoded data removed]",
      "text/plain": [
       "<Figure size 216x216 with 1 Axes>"
      ]
     },
     "metadata": {
      "needs_background": "light"
     },
     "output_type": "display_data"
    }
   ],
   "source": [
    "plt.title('Padded Input')\n",
    "plt.imshow(wpad.detach()[0, 0]); plt.show()"
   ]
  },
  {
   "cell_type": "markdown",
   "id": "cooperative-cooper",
   "metadata": {},
   "source": [
    "Next, in order to agree with the circular convolution implemented in PyTorch, we have to shift the kernel to the \"center\" of the input field, which is the top left corner. We could implement this using `torch.roll` operations, but we found that it is easier and more efficient to center the kernel\n",
    "in the Fourier domain using the [shift theorem](https://ccrma.stanford.edu/~jos/st/Shift_Theorem.html).\n",
    "\n",
    "We construct a \"shift matrix\" and then use it in an elementwise product in the Fourier domain. The *shift amount* ensures that the center of the kernel is in the top left of the input field; the remainder of the kernel wraps around as if the input were \"circular\"."
   ]
  },
  {
   "cell_type": "code",
   "execution_count": 8,
   "id": "permanent-possession",
   "metadata": {},
   "outputs": [],
   "source": [
    "def fft_shift_matrix(n, shift_amount):\n",
    "    shift = torch.arange(0, n).repeat((n, 1))\n",
    "    shift = shift + shift.T\n",
    "    return torch.exp(1j * 2 * np.pi * shift_amount * shift / n)\n",
    "    \n",
    "shift_amount = (k - 1) // 2\n",
    "shift_matrix = fft_shift_matrix(n, -shift_amount)"
   ]
  },
  {
   "cell_type": "markdown",
   "id": "elementary-irrigation",
   "metadata": {},
   "source": [
    "Then, we also must take the complex conjugate. This is equivalent to flipping the kernel horizontally and vertically--\n",
    "convolution as implemented in PyTorch is actually \"cross-correlation\" mathematically.\n",
    "The difference is just that the kernel is flipped.\n",
    "Conjugation in the Fourier domain is equivalent to flipping the signal in the spatial domain.\n",
    "Refer to the [flip theorems](https://ccrma.stanford.edu/~jos/sasp/Flip_Theorems.html)."
   ]
  },
  {
   "cell_type": "code",
   "execution_count": 9,
   "id": "thousand-steam",
   "metadata": {},
   "outputs": [],
   "source": [
    "wfft = shift_matrix * torch.fft.fft2(wpad).conj()"
   ]
  },
  {
   "cell_type": "markdown",
   "id": "dying-there",
   "metadata": {},
   "source": [
    "The result of our Fourier-domain shifting and flipping operations can be seen below. Compare to the padded input above."
   ]
  },
  {
   "cell_type": "code",
   "execution_count": 10,
   "id": "textile-security",
   "metadata": {},
   "outputs": [
    {
     "data": {
      "image/png": "[encoded data removed]",
      "text/plain": [
       "<Figure size 216x216 with 1 Axes>"
      ]
     },
     "metadata": {
      "needs_background": "light"
     },
     "output_type": "display_data"
    }
   ],
   "source": [
    "plt.title('Padded, Centered, & Flipped Input')\n",
    "plt.imshow(torch.fft.ifft2(wfft)[0, 0].real.detach()); plt.show()"
   ]
  },
  {
   "cell_type": "markdown",
   "id": "composed-equity",
   "metadata": {},
   "source": [
    "Then, we implement the product described by this figure, using `einsum`.<br><br>\n",
    "<center>\n",
    "<img width=\"200\" src=\"https://github.com/locuslab/orthogonal-convolutions/blob/main/img/AnimationKeyVerySmall.gif?raw=true\" alt=\"Multi-Channel 2D Convolution Theorem\" /><br>\n",
    "    <p style=\"width: 50%; min-width: 400px;\">(<b>Colored slices:</b> pixels; <b>arrows:</b> dot products; <b>left:</b> Fourier-domain weights; <b>middle:</b> input tensor; <b>right:</b> output tensor; <b>bottom-right</b>: the matrix-vector product for each pixel.)</p>\n",
    "</center><br>\n",
    "That is: Each channel of each pixel of the output is the dot product of the corresponding input pixel and weight pixel.\n",
    "\n"
   ]
  },
  {
   "cell_type": "code",
   "execution_count": 11,
   "id": "induced-inspector",
   "metadata": {},
   "outputs": [],
   "source": [
    "yfft = torch.einsum('dchw, bchw -> bdhw', wfft, xfft)"
   ]
  },
  {
   "cell_type": "markdown",
   "id": "pursuant-services",
   "metadata": {},
   "source": [
    "Now we apply the inverse Fourier transform, and we're done."
   ]
  },
  {
   "cell_type": "code",
   "execution_count": 12,
   "id": "specialized-walker",
   "metadata": {},
   "outputs": [],
   "source": [
    "y2 = torch.fft.ifft2(yfft)"
   ]
  },
  {
   "cell_type": "markdown",
   "id": "banned-compiler",
   "metadata": {},
   "source": [
    "The result is the same as the circular convolution we implemented with `nn.Conv2d`:"
   ]
  },
  {
   "cell_type": "code",
   "execution_count": 13,
   "id": "catholic-maldives",
   "metadata": {},
   "outputs": [
    {
     "data": {
      "text/plain": [
       "1.5329876532632625e-06"
      ]
     },
     "execution_count": 13,
     "metadata": {},
     "output_type": "execute_result"
    }
   ],
   "source": [
    "(y1 - y2).norm().item()"
   ]
  },
  {
   "cell_type": "markdown",
   "id": "heated-employee",
   "metadata": {},
   "source": [
    "------------------------------------------------------------------------\n",
    "### Matrix Block-Diagonalization Perspective\n",
    "And how to orthogonalize FFT convolutions."
   ]
  },
  {
   "cell_type": "code",
   "execution_count": 14,
   "id": "tribal-toner",
   "metadata": {},
   "outputs": [],
   "source": [
    "plt.rcParams['figure.figsize'] = [5, 5]"
   ]
  },
  {
   "cell_type": "markdown",
   "id": "liable-joseph",
   "metadata": {},
   "source": [
    "We can make a block diagonal Fourier-domain matrix out of the $n^2$ pixels of `wfft`.\n",
    "Then, we can implement circular convolution in the Fourier domain by multiplying the Fourier-domain\n",
    "inputs with the block diagonal matrix."
   ]
  },
  {
   "cell_type": "code",
   "execution_count": 15,
   "id": "minute-fifteen",
   "metadata": {},
   "outputs": [],
   "source": [
    "D = torch.block_diag(*[wfft.reshape(cin, cout, n**2)[..., i] for i in range(n**2)])"
   ]
  },
  {
   "cell_type": "code",
   "execution_count": 16,
   "id": "unusual-specific",
   "metadata": {},
   "outputs": [
    {
     "data": {
      "image/png": "[encoded data removed]",
      "text/plain": [
       "<Figure size 360x360 with 1 Axes>"
      ]
     },
     "metadata": {
      "needs_background": "light"
     },
     "output_type": "display_data"
    }
   ],
   "source": [
    "plt.imshow(D.real.detach())\n",
    "plt.title(r'$\\bf{D}$: Block Diagonal Matrix')\n",
    "plt.show()"
   ]
  },
  {
   "cell_type": "markdown",
   "id": "fuzzy-monte",
   "metadata": {},
   "source": [
    "We have to reshape the input into a batch of vectors, where we lay out the channels first. That is,\n",
    "the first `cin` elements of the vector belong to the first pixel, the next `cin` to the second pixel,\n",
    "and so on.\n",
    "\n",
    "Then, we multiply by the diagonal matrix `D` and convert back to the original input shape."
   ]
  },
  {
   "cell_type": "code",
   "execution_count": 17,
   "id": "refined-bedroom",
   "metadata": {},
   "outputs": [],
   "source": [
    "yfft_matrix = (D @ xfft.reshape(batches, cin, n**2).permute(2, 1, 0).reshape(-1, batches)) \\\n",
    "                .reshape(n, n, cin, batches).permute(3, 2, 0, 1)"
   ]
  },
  {
   "cell_type": "markdown",
   "id": "fallen-evening",
   "metadata": {},
   "source": [
    "Again, this is the same as doing circular convolution using `nn.Conv2d`, as well as our previous implementation of Fourier convolutions. We apply the inverse 2D FFT and compare:"
   ]
  },
  {
   "cell_type": "code",
   "execution_count": 18,
   "id": "verified-carter",
   "metadata": {},
   "outputs": [
    {
     "data": {
      "text/plain": [
       "1.5019836610008497e-06"
      ]
     },
     "execution_count": 18,
     "metadata": {},
     "output_type": "execute_result"
    }
   ],
   "source": [
    "y3 = torch.fft.ifft2(yfft_matrix)\n",
    "(y1 - y3).norm().item()"
   ]
  },
  {
   "cell_type": "markdown",
   "id": "exciting-start",
   "metadata": {},
   "source": [
    "-----------------------------------------\n",
    "We will now illustrate the \"block diagonalization\" part of this figure by constructing DFT matrices that convert the previous block diagonal matrix `D` into a block matrix of convolution matrices `C`:\n",
    "<center>\n",
    "    <img width=\"300\" src=\"https://github.com/locuslab/orthogonal-convolutions/blob/main/img/ICLR-Thumbnail-Fourier.001.png?raw=true\" alt=\"Block-Diagonalization in the Fourier Domain\" />\n",
    "</center>"
   ]
  },
  {
   "cell_type": "code",
   "execution_count": 19,
   "id": "usual-cartoon",
   "metadata": {},
   "outputs": [],
   "source": [
    "# Somewhat easier to build these matrices with np.block\n",
    "import numpy as np \n",
    "\n",
    "# Perfect shuffle matrices, implemented as described in the appendix of our paper\n",
    "def shuffle_matrix(p, q):\n",
    "    r = p * q\n",
    "    Ir = np.eye(r)\n",
    "    S = []\n",
    "    for i in range(q):\n",
    "        for x in Ir[i:r:q]:\n",
    "            S.append([x])\n",
    "    return np.block(S)\n",
    "\n",
    "# The \"script F\" matrix from Corollary A.1.1 of our paper\n",
    "def script_F(c):\n",
    "    global n\n",
    "    S = shuffle_matrix(c, n**2)\n",
    "    F = np.fft.fft(np.eye(n), norm=\"ortho\")\n",
    "    FF = np.kron(F, F)\n",
    "    return S @ np.kron(np.eye(c), FF)"
   ]
  },
  {
   "cell_type": "code",
   "execution_count": 20,
   "id": "colonial-action",
   "metadata": {},
   "outputs": [],
   "source": [
    "Fs_cout = torch.tensor(script_F(cout), dtype=torch.complex64)\n",
    "Fs_cin = torch.tensor(script_F(cin), dtype=torch.complex64)"
   ]
  },
  {
   "cell_type": "code",
   "execution_count": 21,
   "id": "polar-worship",
   "metadata": {},
   "outputs": [
    {
     "data": {
      "image/png": "[encoded data removed]",
      "text/plain": [
       "<Figure size 360x360 with 1 Axes>"
      ]
     },
     "metadata": {
      "needs_background": "light"
     },
     "output_type": "display_data"
    }
   ],
   "source": [
    "C = Fs_cout.conj().T @ D @ Fs_cin\n",
    "plt.imshow(C.real.detach())\n",
    "plt.title(r'$\\bf{C}$: Block Matrix of Doubly-Block-Circulant Matrices')\n",
    "plt.show()"
   ]
  },
  {
   "cell_type": "markdown",
   "id": "superior-arrow",
   "metadata": {},
   "source": [
    "This matrix `C` represents the circular convolution in the spatial domain.\n",
    "We reshape the input vector such that the $n^2$ pixels of the first channel come first,\n",
    "then the second channel, and so on:"
   ]
  },
  {
   "cell_type": "code",
   "execution_count": 22,
   "id": "finnish-victory",
   "metadata": {},
   "outputs": [],
   "source": [
    "y_matrix = (C.real @ x.reshape(batches, cin, n**2).permute(1, 2, 0).reshape(-1, batches)) \\\n",
    "                .reshape(cin, n, n, batches).permute(3, 0, 1, 2)"
   ]
  },
  {
   "cell_type": "code",
   "execution_count": 23,
   "id": "helpful-standard",
   "metadata": {},
   "outputs": [
    {
     "data": {
      "text/plain": [
       "1.3579970072896685e-06"
      ]
     },
     "execution_count": 23,
     "metadata": {},
     "output_type": "execute_result"
    }
   ],
   "source": [
    "(y_matrix - y3).norm().item()"
   ]
  },
  {
   "cell_type": "markdown",
   "id": "fallen-travel",
   "metadata": {},
   "source": [
    "We will now make the claim in the figure above explicit: applying the Cayley transform to `C` is equivalent to applying the Cayley transform to `D` and then applying the DFT matrices:"
   ]
  },
  {
   "cell_type": "code",
   "execution_count": 24,
   "id": "permanent-cricket",
   "metadata": {},
   "outputs": [],
   "source": [
    "assert cin == cout, \"This section only applies for cin == cout, since we need square matrices\"\n",
    "cayley = lambda B: (torch.eye(cin * n**2) - B + B.conj().T) @ torch.inverse(torch.eye(cin * n**2) + B - B.conj().T)"
   ]
  },
  {
   "cell_type": "code",
   "execution_count": 25,
   "id": "lucky-martial",
   "metadata": {},
   "outputs": [
    {
     "data": {
      "text/plain": [
       "2.071995368169155e-06"
      ]
     },
     "execution_count": 25,
     "metadata": {},
     "output_type": "execute_result"
    }
   ],
   "source": [
    "(cayley(C) - Fs_cin.conj().T @ cayley(D) @ Fs_cin).norm().item()"
   ]
  },
  {
   "cell_type": "markdown",
   "id": "mathematical-shame",
   "metadata": {},
   "source": [
    "What does an orthogonal convolution look like, anyways?"
   ]
  },
  {
   "cell_type": "code",
   "execution_count": 26,
   "id": "artificial-amendment",
   "metadata": {},
   "outputs": [
    {
     "data": {
      "image/png": "[encoded data removed]",
      "text/plain": [
       "<Figure size 360x360 with 1 Axes>"
      ]
     },
     "metadata": {
      "needs_background": "light"
     },
     "output_type": "display_data"
    }
   ],
   "source": [
    "C_ortho = cayley(C)\n",
    "plt.imshow(C_ortho.detach().numpy().real)\n",
    "plt.show()"
   ]
  },
  {
   "cell_type": "markdown",
   "id": "resistant-ceiling",
   "metadata": {},
   "source": [
    "As an aside, note that the imaginary part of `C_ortho` (and `C`) is zero:"
   ]
  },
  {
   "cell_type": "code",
   "execution_count": 27,
   "id": "heard-legislation",
   "metadata": {},
   "outputs": [
    {
     "data": {
      "text/plain": [
       "(2.275218548675184e-06, 1.0707211686167284e-06)"
      ]
     },
     "execution_count": 27,
     "metadata": {},
     "output_type": "execute_result"
    }
   ],
   "source": [
    "C_ortho.imag.norm().item(), C.imag.norm().item()"
   ]
  },
  {
   "cell_type": "markdown",
   "id": "dominican-member",
   "metadata": {},
   "source": [
    "Let's illustrate that `C_ortho` is indeed orthogonal:"
   ]
  },
  {
   "cell_type": "code",
   "execution_count": 28,
   "id": "complicated-entity",
   "metadata": {},
   "outputs": [
    {
     "data": {
      "image/png": "[encoded data removed]",
      "text/plain": [
       "<Figure size 360x360 with 1 Axes>"
      ]
     },
     "metadata": {
      "needs_background": "light"
     },
     "output_type": "display_data"
    }
   ],
   "source": [
    "plt.imshow((C_ortho @ C_ortho.T).detach().numpy().real)\n",
    "plt.title(r\"$C_\\mathsf{ortho} C_\\mathsf{ortho}^T = I$\")\n",
    "plt.show()"
   ]
  },
  {
   "cell_type": "markdown",
   "id": "worst-entity",
   "metadata": {},
   "source": [
    "--------------------------------------------------------\n",
    "## Orthogonalizing FFT Convolutions\n",
    "\n",
    "Putting the ideas illustrated above together, we want to orthogonalize\n",
    "a convolution in the Fourier domain without explicitly constructing a large matrix.\n",
    "Essentially, we just want to operate on the blocks of `D`.\n",
    "Recall that we extracted those blocks from the convolution weight tensor earlier:\n",
    "*we will just rearrange the tensor to make working with those blocks easier.*\n",
    "\n",
    "In particular, we will use the fact that each pixel of the output is given by a matrix vector product:\n",
    "we will arrange the input and weight tensors so that we can compute the convolution\n",
    "with a batch of such matrix multiplications."
   ]
  },
  {
   "cell_type": "code",
   "execution_count": 29,
   "id": "minor-jason",
   "metadata": {},
   "outputs": [],
   "source": [
    "xfft = torch.fft.fft2(x)\n",
    "xfft = xfft.permute(2, 3, 1, 0) # batches, cin, n, n -> n, n, cin, batches\n",
    "xfft = xfft.reshape(n**2, cin, batches) # n**2 input pixels"
   ]
  },
  {
   "cell_type": "code",
   "execution_count": 30,
   "id": "infinite-liability",
   "metadata": {},
   "outputs": [],
   "source": [
    "wfft = shift_matrix * torch.fft.fft2(wpad).conj() # cout, cin, n, n\n",
    "wfft = wfft.reshape(cout, cin, n**2) # cout, cin, n**2 pixels\n",
    "wfft = wfft.permute(2, 0, 1) # n**2, cout, cin"
   ]
  },
  {
   "cell_type": "markdown",
   "id": "specific-breakdown",
   "metadata": {},
   "source": [
    "Now, similarly to the block diagonal matrix `D` earlier,\n",
    "we have `xfft` of shape ($n^2$, `cin`, `batches`) and\n",
    "`wfft` of shape ($n^2$, `cout`, `cin`).\n",
    "The last two dimensions for each of these are compatible for matrix multiplication with output\n",
    "shape ($n^2$, `cout`, `batches`).\n",
    "\n",
    "We can do batch matrix multiplication, and reshape again:"
   ]
  },
  {
   "cell_type": "code",
   "execution_count": 31,
   "id": "insured-botswana",
   "metadata": {},
   "outputs": [],
   "source": [
    "yfft = wfft @ xfft # n**2, cout, batches\n",
    "yfft = yfft.reshape(n, n, cout, batches)\n",
    "yfft = yfft.permute(3, 2, 0, 1) # batches, cout, n, n\n",
    "y4 = torch.fft.ifft2(yfft)"
   ]
  },
  {
   "cell_type": "markdown",
   "id": "therapeutic-vietnamese",
   "metadata": {},
   "source": [
    "Again, this is equivalent to the original circular convolution:"
   ]
  },
  {
   "cell_type": "code",
   "execution_count": 32,
   "id": "short-malaysia",
   "metadata": {},
   "outputs": [
    {
     "data": {
      "text/plain": [
       "1.5329876532632625e-06"
      ]
     },
     "execution_count": 32,
     "metadata": {},
     "output_type": "execute_result"
    }
   ],
   "source": [
    "(y1 - y4).norm().item()"
   ]
  },
  {
   "cell_type": "markdown",
   "id": "quality-retreat",
   "metadata": {
    "tags": []
   },
   "source": [
    "But this time, it's very easy to orthogonalize the convolution by orthogonalizing\n",
    "all of the \"blocks\":"
   ]
  },
  {
   "cell_type": "code",
   "execution_count": 33,
   "id": "invisible-quantity",
   "metadata": {},
   "outputs": [],
   "source": [
    "# \"Batched\" Cayley transform\n",
    "wfft_skew_sym = wfft - wfft.conj().transpose(1, 2)\n",
    "I = torch.eye(cin, dtype=wfft.dtype)[None, :, :]\n",
    "wfft_ortho = (I - wfft_skew_sym) @ torch.inverse(I + wfft_skew_sym)"
   ]
  },
  {
   "cell_type": "code",
   "execution_count": 34,
   "id": "heated-ranking",
   "metadata": {},
   "outputs": [],
   "source": [
    "yfft_ortho = wfft_ortho @ xfft # n**2, cout, batches\n",
    "yfft_ortho = yfft_ortho.reshape(n, n, cout, batches)\n",
    "yfft_ortho = yfft_ortho.permute(3, 2, 0, 1) # batches, cout, n, n\n",
    "y_ortho = torch.fft.ifft2(yfft_ortho)"
   ]
  },
  {
   "cell_type": "markdown",
   "id": "lyric-pocket",
   "metadata": {},
   "source": [
    "We can see that this implements an orthogonal convolution because\n",
    "it doesn't expand the norm of input tensors:"
   ]
  },
  {
   "cell_type": "code",
   "execution_count": 35,
   "id": "completed-welsh",
   "metadata": {},
   "outputs": [
    {
     "name": "stdout",
     "output_type": "stream",
     "text": [
      "y_ortho   norm:  8.151487350463867\n",
      "input (x) norm:  8.151487350463867\n"
     ]
    }
   ],
   "source": [
    "print('y_ortho   norm: ', y_ortho.norm().item())\n",
    "print('input (x) norm: ', x.norm().item())"
   ]
  },
  {
   "cell_type": "markdown",
   "id": "understood-casting",
   "metadata": {},
   "source": [
    "---------------------------------------------------------------------\n",
    "### Optimizations and More"
   ]
  },
  {
   "cell_type": "markdown",
   "id": "prime-efficiency",
   "metadata": {},
   "source": [
    "Using the symmetry of the Fourier transform, we can implement FFT-based convolutions\n",
    "even more efficiently. We can also handle strided FFT-based convolutions using the *aliasing theorem*, which can be found [here](https://ccrma.stanford.edu/~jos/st/Downsampling_Theorem_Aliasing_Theorem.html).\n",
    "\n",
    "We provide a more fully-featured FFT-based convolution layer in `extras/fftconv.py`."
   ]
  },
  {
   "cell_type": "code",
   "execution_count": 38,
   "id": "outside-declaration",
   "metadata": {},
   "outputs": [
    {
     "data": {
      "text/plain": [
       "1.0860642305488e-06"
      ]
     },
     "execution_count": 38,
     "metadata": {},
     "output_type": "execute_result"
    }
   ],
   "source": [
    "from extras.fftconv import FFTConv\n",
    "\n",
    "fft_conv = FFTConv(cin, cout, k, bias=False)\n",
    "fft_conv.weight.data = conv.weight.data\n",
    "\n",
    "(fft_conv(x) - y1).norm().item()"
   ]
  },
  {
   "cell_type": "markdown",
   "id": "conceptual-calcium",
   "metadata": {},
   "source": [
    "### Orthogonal Convolutions when `cin` != `cout`"
   ]
  },
  {
   "cell_type": "markdown",
   "id": "norwegian-dictionary",
   "metadata": {},
   "source": [
    "In the appendix of our paper, we describe a method to efficiently \"orthogonalize\" convolutions with different numbers of input and output channels. This is actually called *semi-orthogonalization*.\n",
    "More details can be found in `Orthogonal Convolutions.ipynb`."
   ]
  },
  {
   "cell_type": "markdown",
   "id": "adaptive-bristol",
   "metadata": {},
   "source": [
    "-----------------------------------------------------------------------\n",
    "You can cite our work as follows:\n",
    "\n",
    "<pre>\n",
    "@inproceedings{trockman2021ortho,\n",
    "    title={Orthogonalizing Convolutional Layers with the Cayley Transform},\n",
    "    author={Asher Trockman and J. Zico Kolter},\n",
    "    booktitle={International Conference on Learning Representations},\n",
    "    year={2021},\n",
    "    url={https://openreview.net/forum?id=Pbj8H_jEHYv}\n",
    "}\n",
    "</pre>"
   ]
  }
 ],
 "metadata": {
  "kernelspec": {
   "display_name": "Python 3",
   "language": "python",
   "name": "python3"
  },
  "language_info": {
   "codemirror_mode": {
    "name": "ipython",
    "version": 3
   },
   "file_extension": ".py",
   "mimetype": "text/x-python",
   "name": "python",
   "nbconvert_exporter": "python",
   "pygments_lexer": "ipython3",
   "version": "3.6.6"
  }
 },
 "nbformat": 4,
 "nbformat_minor": 5
}
